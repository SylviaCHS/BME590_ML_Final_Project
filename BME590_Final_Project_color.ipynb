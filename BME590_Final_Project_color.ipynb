{
 "cells": [
  {
   "cell_type": "code",
   "execution_count": 1,
   "metadata": {},
   "outputs": [
    {
     "name": "stderr",
     "output_type": "stream",
     "text": [
      "D:\\Anaconda3\\lib\\site-packages\\h5py\\__init__.py:36: FutureWarning: Conversion of the second argument of issubdtype from `float` to `np.floating` is deprecated. In future, it will be treated as `np.float64 == np.dtype(float).type`.\n",
      "  from ._conv import register_converters as _register_converters\n"
     ]
    }
   ],
   "source": [
    "import os\n",
    "import glob\n",
    "from PIL import Image\n",
    "import numpy as np\n",
    "import tensorflow as tf\n",
    "import matplotlib.pyplot as plt\n",
    "from sklearn.model_selection import train_test_split\n",
    "\n",
    "def read_feature(folder, num):\n",
    "    filename = glob.glob(os.path.join(folder, '*'))\n",
    "    img_arr = np.zeros([len(filename), 100, 100, 3])\n",
    "    label = num * np.ones(len(filename), dtype=\"float32\")\n",
    "    for i, name in enumerate(filename):\n",
    "        img = Image.open(name)\n",
    "        img_arr[i, :, :, :] = np.asarray(img, dtype=\"uint8\")\n",
    "    return img_arr, label"
   ]
  },
  {
   "cell_type": "code",
   "execution_count": 2,
   "metadata": {},
   "outputs": [
    {
     "name": "stdout",
     "output_type": "stream",
     "text": [
      "(8076, 100, 100, 3)\n",
      "(8076,)\n",
      "Training data shape (7268, 100, 100, 3)\n"
     ]
    },
    {
     "data": {
      "image/png": "[encoded data removed]",
      "text/plain": [
       "<Figure size 432x288 with 2 Axes>"
      ]
     },
     "metadata": {},
     "output_type": "display_data"
    }
   ],
   "source": [
    "tb_img_arr, tb_label = read_feature('./TB_Image', 1)\n",
    "non_tb_img_arr, non_tb_label = read_feature('./Non-TB_Image', 0)\n",
    "images = np.concatenate((tb_img_arr, non_tb_img_arr))\n",
    "labels = np.concatenate((tb_label, non_tb_label))\n",
    "\n",
    "print(np.shape(images))\n",
    "print(np.shape(labels))\n",
    "X_train, X_val, y_train, y_val = train_test_split(images, labels, test_size=0.1)\n",
    "\n",
    "X_train = X_train.astype(np.int)\n",
    "X_val = X_val.astype(np.int)\n",
    "y_train = y_train.astype(np.int)\n",
    "y_val = y_val.astype(np.int)\n",
    "\n",
    "# change into one-hot vector\n",
    "#y_train = tf.keras.utils.to_categorical(y_train, 2) \n",
    "#y_val = tf.keras.utils.to_categorical(y_val, 2)\n",
    "\n",
    "# reshape dataset\n",
    "X_train = X_train.reshape(X_train.shape[0], 100, 100, 3)\n",
    "X_val = X_val.reshape(X_val.shape[0], 100, 100, 3)\n",
    "\n",
    "from matplotlib import pyplot as plt\n",
    "%matplotlib inline\n",
    "\n",
    "print('Training data shape', X_train.shape)\n",
    "_, (ax1, ax2) = plt.subplots(1, 2)\n",
    "ax1.imshow(X_train[0].reshape(100, 100, 3), cmap=plt.cm.Greys);\n",
    "ax2.imshow(X_train[1].reshape(100, 100, 3), cmap=plt.cm.Greys);"
   ]
  },
  {
   "cell_type": "code",
   "execution_count": 3,
   "metadata": {},
   "outputs": [],
   "source": [
    "def train_data(model, loss, val_loss):\n",
    "    early_stop = tf.keras.callbacks.EarlyStopping(monitor='val_loss', min_delta=1e-3, patience=3)\n",
    "    tensorboard = tf.keras.callbacks.TensorBoard(log_dir='logs/{}'.format('model_name'))\n",
    "    hist = model.fit(X_train, y_train,\n",
    "                     batch_size=64,\n",
    "                     epochs=50,  # Run thru all the data point in each epoch\n",
    "                     verbose=1,\n",
    "                     validation_data=(X_val, y_val),\n",
    "                     #callbacks=[tensorboard])\n",
    "                     callbacks=[early_stop, tensorboard])\n",
    "    #val_err.append(hist.history['val_mean_absolute_error'][-1]) # a dict\n",
    "    loss.append(hist.history['loss'][-1])\n",
    "    val_loss.append(hist.history['val_loss'][-1])\n",
    "    \n",
    "    \n",
    "    return loss, val_loss, hist"
   ]
  },
  {
   "cell_type": "code",
   "execution_count": 4,
   "metadata": {},
   "outputs": [],
   "source": [
    "train_r = True\n",
    "w_r = tf.Variable(tf.random_uniform([1]),dtype=np.float32,trainable=train_r)\n",
    "train_g = True\n",
    "w_g = tf.Variable(tf.random_uniform([1]),dtype=np.float32,trainable=train_g)\n",
    "train_b = True\n",
    "w_b = tf.Variable(tf.random_uniform([1]),dtype=np.float32,trainable=train_b)\n",
    "w_colors = [w_r, w_g, w_b]"
   ]
  },
  {
   "cell_type": "code",
   "execution_count": null,
   "metadata": {},
   "outputs": [],
   "source": [
    "train_color = True\n",
    "color_weights = tf.Variable(tf.random_normal([3,1]),dtype=np.float32,trainable=train_color)"
   ]
  },
  {
   "cell_type": "code",
   "execution_count": 10,
   "metadata": {},
   "outputs": [],
   "source": [
    "def new_color(X, color_weights):\n",
    "    new = []\n",
    "    for image in X:\n",
    "        r1 = image[:,:,0]\n",
    "        g1 = image[:,:,1]\n",
    "        b1 = image[:,:,2]\n",
    "        #rgb = np.array([r1,g1,b1])\n",
    "        new_color = r1 * color_weights[0] + g1 * color_weights[1] + b1 * color_weights[2]\n",
    "        #new_color = np.array([r1, g1, b1]) * color_weights\n",
    "        new.append(new_color)\n",
    "    return np.array(new)\n",
    "\n",
    "X_train1 = new_color(X_train, w_colors)\n",
    "X_val1 = new_color(X_val, w_colors)"
   ]
  },
  {
   "cell_type": "code",
   "execution_count": 11,
   "metadata": {},
   "outputs": [
    {
     "data": {
      "text/plain": [
       "(7268,)"
      ]
     },
     "execution_count": 11,
     "metadata": {},
     "output_type": "execute_result"
    }
   ],
   "source": [
    "np.shape(X_train1)"
   ]
  },
  {
   "cell_type": "code",
   "execution_count": null,
   "metadata": {},
   "outputs": [],
   "source": [
    "X_train[0] * w_colors"
   ]
  },
  {
   "cell_type": "code",
   "execution_count": 7,
   "metadata": {},
   "outputs": [
    {
     "ename": "ValueError",
     "evalue": "operands could not be broadcast together with shapes (3,100,100) (3,) ",
     "output_type": "error",
     "traceback": [
      "\u001b[1;31m---------------------------------------------------------------------------\u001b[0m",
      "\u001b[1;31mValueError\u001b[0m                                Traceback (most recent call last)",
      "\u001b[1;32m<ipython-input-7-8dd0ef274c3a>\u001b[0m in \u001b[0;36m<module>\u001b[1;34m()\u001b[0m\n\u001b[0;32m     11\u001b[0m     \u001b[1;32mreturn\u001b[0m \u001b[0mnp\u001b[0m\u001b[1;33m.\u001b[0m\u001b[0marray\u001b[0m\u001b[1;33m(\u001b[0m\u001b[0mnew\u001b[0m\u001b[1;33m)\u001b[0m\u001b[1;33m\u001b[0m\u001b[0m\n\u001b[0;32m     12\u001b[0m \u001b[1;33m\u001b[0m\u001b[0m\n\u001b[1;32m---> 13\u001b[1;33m \u001b[0mX_train2\u001b[0m \u001b[1;33m=\u001b[0m \u001b[0mnew_color\u001b[0m\u001b[1;33m(\u001b[0m\u001b[0mX_train\u001b[0m\u001b[1;33m,\u001b[0m \u001b[0mw_colors\u001b[0m\u001b[1;33m)\u001b[0m\u001b[1;33m\u001b[0m\u001b[0m\n\u001b[0m\u001b[0;32m     14\u001b[0m \u001b[0mX_val2\u001b[0m \u001b[1;33m=\u001b[0m \u001b[0mnew_color\u001b[0m\u001b[1;33m(\u001b[0m\u001b[0mX_val\u001b[0m\u001b[1;33m,\u001b[0m \u001b[0mw_colors\u001b[0m\u001b[1;33m)\u001b[0m\u001b[1;33m\u001b[0m\u001b[0m\n",
      "\u001b[1;32m<ipython-input-7-8dd0ef274c3a>\u001b[0m in \u001b[0;36mnew_color\u001b[1;34m(X, color_weights)\u001b[0m\n\u001b[0;32m      7\u001b[0m         \u001b[0mrgb\u001b[0m \u001b[1;33m=\u001b[0m \u001b[0mnp\u001b[0m\u001b[1;33m.\u001b[0m\u001b[0marray\u001b[0m\u001b[1;33m(\u001b[0m\u001b[1;33m[\u001b[0m\u001b[0mr1\u001b[0m\u001b[1;33m,\u001b[0m\u001b[0mg1\u001b[0m\u001b[1;33m,\u001b[0m\u001b[0mb1\u001b[0m\u001b[1;33m]\u001b[0m\u001b[1;33m)\u001b[0m\u001b[1;33m\u001b[0m\u001b[0m\n\u001b[0;32m      8\u001b[0m         \u001b[1;31m#new_color = r1 * color_weights[0] + g1 * color_weights[1] + b1 * color_weights[2]\u001b[0m\u001b[1;33m\u001b[0m\u001b[1;33m\u001b[0m\u001b[0m\n\u001b[1;32m----> 9\u001b[1;33m         \u001b[0mnew_color\u001b[0m \u001b[1;33m=\u001b[0m \u001b[0mnp\u001b[0m\u001b[1;33m.\u001b[0m\u001b[0marray\u001b[0m\u001b[1;33m(\u001b[0m\u001b[1;33m[\u001b[0m\u001b[0mr1\u001b[0m\u001b[1;33m,\u001b[0m \u001b[0mg1\u001b[0m\u001b[1;33m,\u001b[0m \u001b[0mb1\u001b[0m\u001b[1;33m]\u001b[0m\u001b[1;33m)\u001b[0m \u001b[1;33m*\u001b[0m \u001b[0mcolor_weights\u001b[0m\u001b[1;33m\u001b[0m\u001b[0m\n\u001b[0m\u001b[0;32m     10\u001b[0m         \u001b[0mnew\u001b[0m\u001b[1;33m.\u001b[0m\u001b[0mappend\u001b[0m\u001b[1;33m(\u001b[0m\u001b[0mnew_color\u001b[0m\u001b[1;33m)\u001b[0m\u001b[1;33m\u001b[0m\u001b[0m\n\u001b[0;32m     11\u001b[0m     \u001b[1;32mreturn\u001b[0m \u001b[0mnp\u001b[0m\u001b[1;33m.\u001b[0m\u001b[0marray\u001b[0m\u001b[1;33m(\u001b[0m\u001b[0mnew\u001b[0m\u001b[1;33m)\u001b[0m\u001b[1;33m\u001b[0m\u001b[0m\n",
      "\u001b[1;31mValueError\u001b[0m: operands could not be broadcast together with shapes (3,100,100) (3,) "
     ]
    }
   ],
   "source": [
    "def new_color(X, color_weights):\n",
    "    new = []\n",
    "    for image in X:\n",
    "        r1 = image[:,:,0]\n",
    "        g1 = image[:,:,1]\n",
    "        b1 = image[:,:,2]\n",
    "        #rgb = np.array([r1,g1,b1])\n",
    "        new_color = r1 * color_weights[0] + g1 * color_weights[1] + b1 * color_weights[2]\n",
    "        #new_color = np.array([r1, g1, b1]) * color_weights\n",
    "        new.append(new_color)\n",
    "    return np.array(new)\n",
    "\n",
    "X_train2 = new_color(X_train, w_colors)\n",
    "X_val2 = new_color(X_val, w_colors)"
   ]
  },
  {
   "cell_type": "code",
   "execution_count": 10,
   "metadata": {},
   "outputs": [],
   "source": [
    "# this can be either X_train/y_train or X_test/y_test, so we make a placeholder that we can feed into:\n",
    "X_train_or_test = tf.placeholder(tf.float32, [None, 100, 100], name='input_image')\n",
    "y_train_or_test = tf.placeholder(tf.int32, [None], name='image_label')\n",
    "batch_size = 32\n",
    "# create a tf dataset, from which we can generate batches\n",
    "dataset = tf.data.Dataset.from_tensor_slices((X_train_or_test, y_train_or_test))\n",
    "dataset = dataset.batch(batch_size).repeat(None)\n",
    "batch_generator = dataset.make_initializable_iterator()\n",
    "X_batch, y_batch = batch_generator.get_next()  # batches symbolically generated"
   ]
  },
  {
   "cell_type": "code",
   "execution_count": null,
   "metadata": {},
   "outputs": [],
   "source": []
  }
 ],
 "metadata": {
  "kernelspec": {
   "display_name": "Python 3",
   "language": "python",
   "name": "python3"
  },
  "language_info": {
   "codemirror_mode": {
    "name": "ipython",
    "version": 3
   },
   "file_extension": ".py",
   "mimetype": "text/x-python",
   "name": "python",
   "nbconvert_exporter": "python",
   "pygments_lexer": "ipython3",
   "version": "3.6.5"
  }
 },
 "nbformat": 4,
 "nbformat_minor": 2
}
